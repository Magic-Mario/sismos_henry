{
 "cells": [
  {
   "attachments": {},
   "cell_type": "markdown",
   "metadata": {},
   "source": [
    "# 1. Extracción de datos de la API de USGS"
   ]
  },
  {
   "cell_type": "code",
   "execution_count": 42,
   "metadata": {},
   "outputs": [],
   "source": [
    "import requests\n",
    "import pandas as pd"
   ]
  },
  {
   "cell_type": "code",
   "execution_count": 43,
   "metadata": {},
   "outputs": [],
   "source": [
    "# los paises y los estados (USA) que se buscan filtrar\n",
    "paises = ['Chile', 'Japan']\n",
    "us_estados = ['Alabama', 'Alaska', 'Arizona', 'Arkansas', 'California', 'Colorado',\n",
    "             'Connecticut', 'Delaware', 'Florida', 'Georgia', 'Hawaii', 'Idaho', \n",
    "             'Illinois', 'Indiana', 'Iowa', 'Kansas', 'Kentucky', 'Louisiana', \n",
    "             'Maine', 'Maryland', 'Massachusetts', 'Michigan', 'Minnesota', \n",
    "             'Mississippi', 'Missouri', 'Montana', 'Nebraska', 'Nevada', \n",
    "             'New Hampshire', 'New Jersey', 'New Mexico', 'New York', 'North Carolina', \n",
    "             'North Dakota', 'Ohio', 'Oklahoma', 'Oregon', 'Pennsylvania', 'Rhode Island', \n",
    "             'South Carolina', 'South Dakota', 'Tennessee', 'Texas', 'Utah', \n",
    "             'Vermont', 'Virginia', 'Washington', 'West Virginia', 'Wisconsin', 'Wyoming']\n"
   ]
  },
  {
   "cell_type": "code",
   "execution_count": 44,
   "metadata": {},
   "outputs": [],
   "source": [
    "def find_country(place):\n",
    "    # busca en la lista de paises\n",
    "    for pais in paises:\n",
    "        if pais.lower() in place.lower():\n",
    "            return pais.lower()\n",
    "    # busca en la lista de estados de Estados Unidos\n",
    "    for estado in us_estados:\n",
    "        if estado.lower() in place.lower():\n",
    "            return 'usa'\n",
    "    return 'other'  # devuelve 'other' si no encuentra una coincidencia"
   ]
  },
  {
   "cell_type": "code",
   "execution_count": 45,
   "metadata": {},
   "outputs": [],
   "source": [
    "#se establece la url y los parámetros de la request\n",
    "url = \"https://earthquake.usgs.gov/fdsnws/event/1/query\"\n",
    "params = {\n",
    "    \"format\": \"geojson\",\n",
    "    \"starttime\": \"2014-01-01\",\n",
    "    \"endtime\": \"2014-01-31\"\n",
    "}\n",
    "response = requests.get(url, params=params)\n",
    "\n",
    "# se guardan los datos de la consulta a la API\n",
    "data = response.json()\n"
   ]
  },
  {
   "cell_type": "code",
   "execution_count": 46,
   "metadata": {},
   "outputs": [],
   "source": [
    "# se toman los datos del diccionario correspondiente\n",
    "features = data['features']"
   ]
  },
  {
   "cell_type": "code",
   "execution_count": 47,
   "metadata": {},
   "outputs": [],
   "source": [
    "filtered_features = []\n",
    "\n",
    "for feature in features:\n",
    "    place = feature['properties']['place']\n",
    "    for location in paises + us_estados:  # se verifica tanto en países como en estados de EE.UU.\n",
    "        if location.lower() in place.lower():\n",
    "            filtered_features.append(feature)\n",
    "            break  # se termina la busqueda buscar en los otros lugares una vez que encontramos una coincidencia\n",
    "\n",
    "# Ahora 'filtered_features' contiene solo los terremotos que ocurrieron en los países y estados especificados\n"
   ]
  },
  {
   "cell_type": "code",
   "execution_count": 48,
   "metadata": {},
   "outputs": [
    {
     "data": {
      "text/plain": [
       "8087"
      ]
     },
     "execution_count": 48,
     "metadata": {},
     "output_type": "execute_result"
    }
   ],
   "source": [
    "len(filtered_features) #se revisa la cantidad de registros filtrados"
   ]
  },
  {
   "cell_type": "code",
   "execution_count": 49,
   "metadata": {},
   "outputs": [],
   "source": [
    "# Crear una lista vacía para almacenar los datos\n",
    "data_list = []\n",
    "\n",
    "for feature in filtered_features:\n",
    "    # Extraer información de properties y geometry\n",
    "    properties = feature['properties']\n",
    "    geometry = feature['geometry']\n",
    "\n",
    "    # Crear un diccionario con los datos que necesitamos\n",
    "    data_dict = {\n",
    "        'place': properties['place'],\n",
    "        'mag': properties['mag'],\n",
    "        'time': pd.to_datetime(properties['time'], unit='ms'),  # convertir el tiempo a formato legible\n",
    "        'lon': geometry['coordinates'][0],\n",
    "        'lat': geometry['coordinates'][1],\n",
    "        'depth': geometry['coordinates'][2]\n",
    "    }\n",
    "\n",
    "    # Añadir el diccionario a la lista\n",
    "    data_list.append(data_dict)\n",
    "\n",
    "# Crear un DataFrame a partir de la lista de diccionarios\n",
    "df = pd.DataFrame(data_list)\n"
   ]
  },
  {
   "cell_type": "code",
   "execution_count": 50,
   "metadata": {},
   "outputs": [
    {
     "data": {
      "text/plain": [
       "(8087, 6)"
      ]
     },
     "execution_count": 50,
     "metadata": {},
     "output_type": "execute_result"
    }
   ],
   "source": [
    "df.shape #dimensiones del df"
   ]
  },
  {
   "cell_type": "code",
   "execution_count": 52,
   "metadata": {},
   "outputs": [],
   "source": [
    "# se crea la columna con la denominación de cada país según la columna place\n",
    "df['country'] = df['place'].apply(find_country)"
   ]
  },
  {
   "cell_type": "code",
   "execution_count": 53,
   "metadata": {},
   "outputs": [
    {
     "data": {
      "text/html": [
       "<div>\n",
       "<style scoped>\n",
       "    .dataframe tbody tr th:only-of-type {\n",
       "        vertical-align: middle;\n",
       "    }\n",
       "\n",
       "    .dataframe tbody tr th {\n",
       "        vertical-align: top;\n",
       "    }\n",
       "\n",
       "    .dataframe thead th {\n",
       "        text-align: right;\n",
       "    }\n",
       "</style>\n",
       "<table border=\"1\" class=\"dataframe\">\n",
       "  <thead>\n",
       "    <tr style=\"text-align: right;\">\n",
       "      <th></th>\n",
       "      <th>place</th>\n",
       "      <th>mag</th>\n",
       "      <th>time</th>\n",
       "      <th>lon</th>\n",
       "      <th>lat</th>\n",
       "      <th>depth</th>\n",
       "      <th>country</th>\n",
       "    </tr>\n",
       "  </thead>\n",
       "  <tbody>\n",
       "    <tr>\n",
       "      <th>0</th>\n",
       "      <td>4 km WNW of Cobb, California</td>\n",
       "      <td>0.45</td>\n",
       "      <td>2014-01-30 23:59:35.960</td>\n",
       "      <td>-122.774666</td>\n",
       "      <td>38.837666</td>\n",
       "      <td>1.960</td>\n",
       "      <td>usa</td>\n",
       "    </tr>\n",
       "    <tr>\n",
       "      <th>1</th>\n",
       "      <td>47 km N of Petersville, Alaska</td>\n",
       "      <td>2.70</td>\n",
       "      <td>2014-01-30 23:40:17.942</td>\n",
       "      <td>-150.650200</td>\n",
       "      <td>62.918300</td>\n",
       "      <td>108.600</td>\n",
       "      <td>usa</td>\n",
       "    </tr>\n",
       "    <tr>\n",
       "      <th>2</th>\n",
       "      <td>Northern California</td>\n",
       "      <td>0.43</td>\n",
       "      <td>2014-01-30 23:21:12.670</td>\n",
       "      <td>-122.801834</td>\n",
       "      <td>38.837666</td>\n",
       "      <td>1.659</td>\n",
       "      <td>usa</td>\n",
       "    </tr>\n",
       "    <tr>\n",
       "      <th>3</th>\n",
       "      <td>28 km E of Pedro Bay, Alaska</td>\n",
       "      <td>1.90</td>\n",
       "      <td>2014-01-30 23:15:34.167</td>\n",
       "      <td>-153.599800</td>\n",
       "      <td>59.763900</td>\n",
       "      <td>125.100</td>\n",
       "      <td>usa</td>\n",
       "    </tr>\n",
       "    <tr>\n",
       "      <th>4</th>\n",
       "      <td>5 km S of Volcano, Hawaii</td>\n",
       "      <td>1.71</td>\n",
       "      <td>2014-01-30 23:14:27.970</td>\n",
       "      <td>-155.240000</td>\n",
       "      <td>19.396000</td>\n",
       "      <td>27.743</td>\n",
       "      <td>usa</td>\n",
       "    </tr>\n",
       "  </tbody>\n",
       "</table>\n",
       "</div>"
      ],
      "text/plain": [
       "                            place   mag                    time         lon  \\\n",
       "0    4 km WNW of Cobb, California  0.45 2014-01-30 23:59:35.960 -122.774666   \n",
       "1  47 km N of Petersville, Alaska  2.70 2014-01-30 23:40:17.942 -150.650200   \n",
       "2             Northern California  0.43 2014-01-30 23:21:12.670 -122.801834   \n",
       "3    28 km E of Pedro Bay, Alaska  1.90 2014-01-30 23:15:34.167 -153.599800   \n",
       "4       5 km S of Volcano, Hawaii  1.71 2014-01-30 23:14:27.970 -155.240000   \n",
       "\n",
       "         lat    depth country  \n",
       "0  38.837666    1.960     usa  \n",
       "1  62.918300  108.600     usa  \n",
       "2  38.837666    1.659     usa  \n",
       "3  59.763900  125.100     usa  \n",
       "4  19.396000   27.743     usa  "
      ]
     },
     "execution_count": 53,
     "metadata": {},
     "output_type": "execute_result"
    }
   ],
   "source": [
    "df.head()"
   ]
  }
 ],
 "metadata": {
  "kernelspec": {
   "display_name": "Python 3",
   "language": "python",
   "name": "python3"
  },
  "language_info": {
   "codemirror_mode": {
    "name": "ipython",
    "version": 3
   },
   "file_extension": ".py",
   "mimetype": "text/x-python",
   "name": "python",
   "nbconvert_exporter": "python",
   "pygments_lexer": "ipython3",
   "version": "3.10.6"
  },
  "orig_nbformat": 4
 },
 "nbformat": 4,
 "nbformat_minor": 2
}
